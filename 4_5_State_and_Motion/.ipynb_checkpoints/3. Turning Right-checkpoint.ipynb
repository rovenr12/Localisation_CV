{
 "cells": [
  {
   "cell_type": "markdown",
   "metadata": {},
   "source": [
    "# Turning Right\n",
    "\n",
    "This notebook provides some initial variables and creates one car object!\n",
    "\n",
    "This time around, you are expected to **modify the car.py file** and test out some new functionality!\n",
    "\n",
    "Your tasks for this notebook are:\n",
    "1. Add a `turn_right()` function to `car.py`\n",
    "    - There are a few ways to do this. I'd suggest looking at the code in `turn_left()` or even *using* this function.\n",
    "2. Don't forget to update the **state** as necessary, after a turn!\n",
    "3. Test out your `turn_right()` function in this notebook by visualizing the car as it moves, and printing out the state of the car to see if it matches what you expect!"
   ]
  },
  {
   "cell_type": "code",
   "execution_count": 1,
   "metadata": {},
   "outputs": [],
   "source": [
    "import numpy as np\n",
    "import car\n",
    "\n",
    "%matplotlib inline\n",
    "\n",
    "# Auto-reload function so that this notebook keeps up with \n",
    "# changes in the class file \n",
    "%load_ext autoreload\n",
    "%autoreload 2"
   ]
  },
  {
   "cell_type": "markdown",
   "metadata": {},
   "source": [
    "### Create a new car object"
   ]
  },
  {
   "cell_type": "code",
   "execution_count": 2,
   "metadata": {},
   "outputs": [],
   "source": [
    "# Create a 2D world of 0's\n",
    "height = 4\n",
    "width = 6\n",
    "world = np.zeros((height, width))\n",
    "\n",
    "# Define the initial car state\n",
    "initial_position = [0, 0] # [y, x] (top-left corner)\n",
    "velocity = [0, 1] # [vy, vx] (moving to the right)\n",
    "\n",
    "# Create a car with initial params\n",
    "carla = car.Car(initial_position, velocity, world)\n"
   ]
  },
  {
   "cell_type": "markdown",
   "metadata": {},
   "source": [
    "### Directory of Python files\n",
    "\n",
    "Remember, to go back to see and change all your files, click on the orange Jupyter icon at the top left of this notebook! There you'll see this notebook and the class file `car.py`, which you'll need to open and change.\n",
    "\n",
    "I recommend opening this notebook and the car.py file in new tabs so that you can easily look at both!"
   ]
  },
  {
   "cell_type": "code",
   "execution_count": 3,
   "metadata": {},
   "outputs": [
    {
     "data": {
      "image/png": "[encoded data removed]",
      "text/plain": [
       "<Figure size 432x288 with 1 Axes>"
      ]
     },
     "metadata": {
      "needs_background": "light"
     },
     "output_type": "display_data"
    }
   ],
   "source": [
    "## TODO: Move carla around, using your new turn_right() function\n",
    "## Display the result and the state as it changes\n",
    "carla.display_world()"
   ]
  },
  {
   "cell_type": "code",
   "execution_count": 4,
   "metadata": {},
   "outputs": [],
   "source": [
    "carla.move()"
   ]
  },
  {
   "cell_type": "code",
   "execution_count": 5,
   "metadata": {},
   "outputs": [
    {
     "data": {
      "image/png": "[encoded data removed]",
      "text/plain": [
       "<Figure size 432x288 with 1 Axes>"
      ]
     },
     "metadata": {
      "needs_background": "light"
     },
     "output_type": "display_data"
    }
   ],
   "source": [
    "carla.turn_right()\n",
    "carla.move()\n",
    "carla.display_world()"
   ]
  },
  {
   "cell_type": "code",
   "execution_count": null,
   "metadata": {},
   "outputs": [],
   "source": []
  }
 ],
 "metadata": {
  "anaconda-cloud": {},
  "kernelspec": {
   "display_name": "Python 3",
   "language": "python",
   "name": "python3"
  },
  "language_info": {
   "codemirror_mode": {
    "name": "ipython",
    "version": 3
   },
   "file_extension": ".py",
   "mimetype": "text/x-python",
   "name": "python",
   "nbconvert_exporter": "python",
   "pygments_lexer": "ipython3",
   "version": "3.7.5"
  }
 },
 "nbformat": 4,
 "nbformat_minor": 1
}
